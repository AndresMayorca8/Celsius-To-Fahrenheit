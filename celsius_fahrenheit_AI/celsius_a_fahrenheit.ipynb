{
  "nbformat": 4,
  "nbformat_minor": 0,
  "metadata": {
    "colab": {
      "name": "Untitled2.ipynb",
      "provenance": [],
      "collapsed_sections": []
    },
    "kernelspec": {
      "name": "python3",
      "display_name": "Python 3"
    },
    "language_info": {
      "name": "python"
    }
  },
  "cells": [
    {
      "cell_type": "code",
      "metadata": {
        "id": "B35iTJyNSK1L"
      },
      "source": [
        "# Importing Libraries\n",
        "import tensorflow as tf \n",
        "import pandas as pd\n",
        "import numpy as np\n",
        "import seaborn as sns\n",
        "import matplotlib.pyplot as plt"
      ],
      "execution_count": 1,
      "outputs": []
    },
    {
      "cell_type": "code",
      "metadata": {
        "id": "s-KwWEKATRpi"
      },
      "source": [
        "# Importing Data\n",
        "temperature_df = pd.read_csv(\"celsius_a_fahrenheit.csv\")"
      ],
      "execution_count": 3,
      "outputs": []
    },
    {
      "cell_type": "code",
      "metadata": {
        "colab": {
          "base_uri": "https://localhost:8080/",
          "height": 350
        },
        "id": "_QMnhFWKT7Yh",
        "outputId": "f5e448b9-4b04-44d9-d6ed-da36cf91a5d5"
      },
      "source": [
        "# Viewing Data\n",
        "sns.scatterplot(temperature_df['Celsius'], temperature_df['Fahrenheit'])"
      ],
      "execution_count": 5,
      "outputs": [
        {
          "output_type": "stream",
          "name": "stderr",
          "text": [
            "/usr/local/lib/python3.7/dist-packages/seaborn/_decorators.py:43: FutureWarning: Pass the following variables as keyword args: x, y. From version 0.12, the only valid positional argument will be `data`, and passing other arguments without an explicit keyword will result in an error or misinterpretation.\n",
            "  FutureWarning\n"
          ]
        },
        {
          "output_type": "execute_result",
          "data": {
            "text/plain": [
              "<matplotlib.axes._subplots.AxesSubplot at 0x7faa6755bed0>"
            ]
          },
          "metadata": {},
          "execution_count": 5
        },
        {
          "output_type": "display_data",
          "data": {
            "image/png": "[encoded data removed]",
            "text/plain": [
              "<Figure size 432x288 with 1 Axes>"
            ]
          },
          "metadata": {
            "needs_background": "light"
          }
        }
      ]
    },
    {
      "cell_type": "code",
      "metadata": {
        "id": "HU4xfx4uUrJv"
      },
      "source": [
        "# Loading Dataset\n",
        "x_train = temperature_df['Celsius']\n",
        "y_train = temperature_df['Fahrenheit']"
      ],
      "execution_count": 8,
      "outputs": []
    },
    {
      "cell_type": "code",
      "metadata": {
        "id": "kzeAglKOVJ5e"
      },
      "source": [
        "# Creating model\n",
        "model = tf.keras.Sequential()\n",
        "model.add(tf.keras.layers.Dense(units=1, input_shape=[1]))\n",
        "\n",
        "#model.summary()\n",
        "model.compile(optimizer=tf.keras.optimizers.Adam(0.5), loss='mean_squared_error')"
      ],
      "execution_count": 13,
      "outputs": []
    },
    {
      "cell_type": "code",
      "metadata": {
        "id": "A_QAYv0hhwiW"
      },
      "source": [
        "# Training model\n",
        "epochs_hist = model.fit(x_train, y_train, epochs = 100)"
      ],
      "execution_count": null,
      "outputs": []
    },
    {
      "cell_type": "code",
      "metadata": {
        "colab": {
          "base_uri": "https://localhost:8080/",
          "height": 312
        },
        "id": "iDglGxIjjuzM",
        "outputId": "de11d32b-04aa-4a7a-920b-8d5ac0b081da"
      },
      "source": [
        "#Viewing the history of the epochs\n",
        "epochs_hist.history.keys()\n",
        "\n",
        "# Charting the history of the ephos\n",
        "plt.plot(epochs_hist.history['loss'])\n",
        "plt.title('Loss process during Model training')\n",
        "plt.xlabel('tpoch')\n",
        "plt.ylabel('Training Loss')\n",
        "plt.legend('Training Loss')"
      ],
      "execution_count": 31,
      "outputs": [
        {
          "output_type": "execute_result",
          "data": {
            "text/plain": [
              "<matplotlib.legend.Legend at 0x7faa5fee5690>"
            ]
          },
          "metadata": {},
          "execution_count": 31
        },
        {
          "output_type": "display_data",
          "data": {
            "image/png": "[encoded data removed]",
            "text/plain": [
              "<Figure size 432x288 with 1 Axes>"
            ]
          },
          "metadata": {
            "needs_background": "light"
          }
        }
      ]
    },
    {
      "cell_type": "code",
      "metadata": {
        "id": "VjNAWDpZnukZ"
      },
      "source": [
        "# Model weight\n",
        "model.get_weights()"
      ],
      "execution_count": null,
      "outputs": []
    },
    {
      "cell_type": "code",
      "metadata": {
        "colab": {
          "base_uri": "https://localhost:8080/"
        },
        "id": "VECb0c_xnusw",
        "outputId": "ddbcb466-d82c-4d3a-fe69-9132b569a0dd"
      },
      "source": [
        "# Predictions\n",
        "Temp_C = 0\n",
        "Temp_F = model.predict([Temp_C])\n",
        "print(Temp_F)\n",
        "\n",
        "Temp_F = 9/5 * Temp_C + 32\n",
        "print(Temp_F)"
      ],
      "execution_count": 35,
      "outputs": [
        {
          "output_type": "stream",
          "name": "stdout",
          "text": [
            "[[32.00002]]\n",
            "32.0\n"
          ]
        }
      ]
    }
  ]
}